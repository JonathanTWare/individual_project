{
 "cells": [
  {
   "cell_type": "markdown",
   "id": "00ce1986-2996-4eef-9edf-450e1c7617f7",
   "metadata": {},
   "source": [
    "# Chicago Crime Type Prediction"
   ]
  },
  {
   "cell_type": "markdown",
   "id": "0b103b48-5e43-4151-ae25-1b6cb99a7b85",
   "metadata": {},
   "source": [
    "## goal: predict the type of crimes that can occur"
   ]
  },
  {
   "cell_type": "code",
   "execution_count": 1,
   "id": "d1912ce1-da55-47e9-9701-0f0c54c8ca6d",
   "metadata": {
    "tags": []
   },
   "outputs": [],
   "source": [
    "import wrangle as w\n",
    "import pandas as pd\n",
    "import requests\n",
    "import os\n",
    "import numpy as np\n",
    "import matplotlib.pyplot as plt\n",
    "import seaborn as sns\n",
    "import warnings\n",
    "warnings.filterwarnings('ignore')"
   ]
  },
  {
   "cell_type": "code",
   "execution_count": 2,
   "id": "7ea689a9-eb7b-48ab-9d7e-f7717d474fb4",
   "metadata": {
    "tags": []
   },
   "outputs": [],
   "source": [
    "train, validate, test = w.wrangle_crime()"
   ]
  },
  {
   "cell_type": "code",
   "execution_count": 3,
   "id": "ae7a03d6-f6ac-4272-ada9-706f1bf079df",
   "metadata": {
    "tags": []
   },
   "outputs": [
    {
     "data": {
      "text/plain": [
       "(639065, 24)"
      ]
     },
     "execution_count": 3,
     "metadata": {},
     "output_type": "execute_result"
    }
   ],
   "source": [
    "train.shape"
   ]
  },
  {
   "cell_type": "code",
   "execution_count": 4,
   "id": "2b0998c7-78ae-4e4b-a598-b306f2083922",
   "metadata": {
    "tags": []
   },
   "outputs": [
    {
     "data": {
      "text/plain": [
       "(273885, 24)"
      ]
     },
     "execution_count": 4,
     "metadata": {},
     "output_type": "execute_result"
    }
   ],
   "source": [
    "validate.shape"
   ]
  },
  {
   "cell_type": "code",
   "execution_count": 5,
   "id": "944ed1f9-fdea-4e5c-a9f6-70bc09b806cf",
   "metadata": {
    "tags": []
   },
   "outputs": [
    {
     "data": {
      "text/plain": [
       "(228238, 24)"
      ]
     },
     "execution_count": 5,
     "metadata": {},
     "output_type": "execute_result"
    }
   ],
   "source": [
    "test.shape"
   ]
  },
  {
   "cell_type": "code",
   "execution_count": 6,
   "id": "36a1629b-6aaf-4d1c-8e28-9c71d5d4163e",
   "metadata": {
    "tags": []
   },
   "outputs": [
    {
     "data": {
      "text/plain": [
       "ID                      0\n",
       "Case Number             0\n",
       "Date                    0\n",
       "Block                   0\n",
       "IUCR                    0\n",
       "Primary Type            0\n",
       "Description             0\n",
       "Location Description    0\n",
       "Arrest                  0\n",
       "Domestic                0\n",
       "Beat                    0\n",
       "District                0\n",
       "Ward                    0\n",
       "Community Area          0\n",
       "FBI Code                0\n",
       "X Coordinate            0\n",
       "Y Coordinate            0\n",
       "Year                    0\n",
       "Updated On              0\n",
       "Latitude                0\n",
       "Longitude               0\n",
       "Location                0\n",
       "arrest_made_False       0\n",
       "arrest_made_True        0\n",
       "dtype: int64"
      ]
     },
     "execution_count": 6,
     "metadata": {},
     "output_type": "execute_result"
    }
   ],
   "source": [
    "train.isnull().sum()\n"
   ]
  },
  {
   "cell_type": "code",
   "execution_count": 7,
   "id": "ad4e800d-d489-4340-a7b0-5064d395670a",
   "metadata": {
    "tags": []
   },
   "outputs": [
    {
     "data": {
      "text/html": [
       "<div>\n",
       "<style scoped>\n",
       "    .dataframe tbody tr th:only-of-type {\n",
       "        vertical-align: middle;\n",
       "    }\n",
       "\n",
       "    .dataframe tbody tr th {\n",
       "        vertical-align: top;\n",
       "    }\n",
       "\n",
       "    .dataframe thead th {\n",
       "        text-align: right;\n",
       "    }\n",
       "</style>\n",
       "<table border=\"1\" class=\"dataframe\">\n",
       "  <thead>\n",
       "    <tr style=\"text-align: right;\">\n",
       "      <th></th>\n",
       "      <th>ID</th>\n",
       "      <th>Case Number</th>\n",
       "      <th>Date</th>\n",
       "      <th>Block</th>\n",
       "      <th>IUCR</th>\n",
       "      <th>Primary Type</th>\n",
       "      <th>Description</th>\n",
       "      <th>Location Description</th>\n",
       "      <th>Arrest</th>\n",
       "      <th>Domestic</th>\n",
       "      <th>...</th>\n",
       "      <th>FBI Code</th>\n",
       "      <th>X Coordinate</th>\n",
       "      <th>Y Coordinate</th>\n",
       "      <th>Year</th>\n",
       "      <th>Updated On</th>\n",
       "      <th>Latitude</th>\n",
       "      <th>Longitude</th>\n",
       "      <th>Location</th>\n",
       "      <th>arrest_made_False</th>\n",
       "      <th>arrest_made_True</th>\n",
       "    </tr>\n",
       "  </thead>\n",
       "  <tbody>\n",
       "    <tr>\n",
       "      <th>2148433</th>\n",
       "      <td>12871185</td>\n",
       "      <td>JF448716</td>\n",
       "      <td>2022-10-25 12:13:00</td>\n",
       "      <td>001XX N STATE ST</td>\n",
       "      <td>0860</td>\n",
       "      <td>THEFT</td>\n",
       "      <td>RETAIL THEFT</td>\n",
       "      <td>DEPARTMENT STORE</td>\n",
       "      <td>True</td>\n",
       "      <td>False</td>\n",
       "      <td>...</td>\n",
       "      <td>06</td>\n",
       "      <td>1176352.0</td>\n",
       "      <td>1900927.0</td>\n",
       "      <td>2022</td>\n",
       "      <td>01/03/2023 03:46:28 PM</td>\n",
       "      <td>41.883500</td>\n",
       "      <td>-87.627877</td>\n",
       "      <td>(41.883500187, -87.627876698)</td>\n",
       "      <td>0</td>\n",
       "      <td>1</td>\n",
       "    </tr>\n",
       "    <tr>\n",
       "      <th>1307433</th>\n",
       "      <td>11561980</td>\n",
       "      <td>JC110590</td>\n",
       "      <td>2019-01-09 07:30:00</td>\n",
       "      <td>027XX N LONG AVE</td>\n",
       "      <td>0520</td>\n",
       "      <td>ASSAULT</td>\n",
       "      <td>AGGRAVATED:KNIFE/CUTTING INSTR</td>\n",
       "      <td>SCHOOL, PUBLIC, BUILDING</td>\n",
       "      <td>False</td>\n",
       "      <td>False</td>\n",
       "      <td>...</td>\n",
       "      <td>04A</td>\n",
       "      <td>1139908.0</td>\n",
       "      <td>1917674.0</td>\n",
       "      <td>2019</td>\n",
       "      <td>01/18/2019 09:37:14 AM</td>\n",
       "      <td>41.930200</td>\n",
       "      <td>-87.761293</td>\n",
       "      <td>(41.930200015, -87.761292788)</td>\n",
       "      <td>1</td>\n",
       "      <td>0</td>\n",
       "    </tr>\n",
       "    <tr>\n",
       "      <th>221655</th>\n",
       "      <td>13023181</td>\n",
       "      <td>JG201060</td>\n",
       "      <td>2023-03-27 15:35:00</td>\n",
       "      <td>045XX S DREXEL BLVD</td>\n",
       "      <td>0486</td>\n",
       "      <td>BATTERY</td>\n",
       "      <td>DOMESTIC BATTERY SIMPLE</td>\n",
       "      <td>APARTMENT</td>\n",
       "      <td>False</td>\n",
       "      <td>True</td>\n",
       "      <td>...</td>\n",
       "      <td>08B</td>\n",
       "      <td>1182955.0</td>\n",
       "      <td>1875110.0</td>\n",
       "      <td>2023</td>\n",
       "      <td>07/15/2023 04:45:57 PM</td>\n",
       "      <td>41.812505</td>\n",
       "      <td>-87.604435</td>\n",
       "      <td>(41.812505323, -87.604434996)</td>\n",
       "      <td>1</td>\n",
       "      <td>0</td>\n",
       "    </tr>\n",
       "    <tr>\n",
       "      <th>1627079</th>\n",
       "      <td>12049838</td>\n",
       "      <td>JD231408</td>\n",
       "      <td>2020-05-13 14:00:00</td>\n",
       "      <td>011XX E 82ND ST</td>\n",
       "      <td>0560</td>\n",
       "      <td>ASSAULT</td>\n",
       "      <td>SIMPLE</td>\n",
       "      <td>SIDEWALK</td>\n",
       "      <td>False</td>\n",
       "      <td>False</td>\n",
       "      <td>...</td>\n",
       "      <td>08A</td>\n",
       "      <td>1185152.0</td>\n",
       "      <td>1850850.0</td>\n",
       "      <td>2020</td>\n",
       "      <td>05/20/2020 03:52:52 PM</td>\n",
       "      <td>41.745882</td>\n",
       "      <td>-87.597138</td>\n",
       "      <td>(41.745882354, -87.597138326)</td>\n",
       "      <td>1</td>\n",
       "      <td>0</td>\n",
       "    </tr>\n",
       "    <tr>\n",
       "      <th>1490523</th>\n",
       "      <td>11841585</td>\n",
       "      <td>JC449119</td>\n",
       "      <td>2019-09-26 11:30:00</td>\n",
       "      <td>020XX N CLARK ST</td>\n",
       "      <td>0460</td>\n",
       "      <td>BATTERY</td>\n",
       "      <td>SIMPLE</td>\n",
       "      <td>OTHER</td>\n",
       "      <td>False</td>\n",
       "      <td>False</td>\n",
       "      <td>...</td>\n",
       "      <td>08B</td>\n",
       "      <td>1173852.0</td>\n",
       "      <td>1913957.0</td>\n",
       "      <td>2019</td>\n",
       "      <td>10/03/2019 04:17:36 PM</td>\n",
       "      <td>41.919311</td>\n",
       "      <td>-87.636668</td>\n",
       "      <td>(41.919311217, -87.636668238)</td>\n",
       "      <td>1</td>\n",
       "      <td>0</td>\n",
       "    </tr>\n",
       "  </tbody>\n",
       "</table>\n",
       "<p>5 rows × 24 columns</p>\n",
       "</div>"
      ],
      "text/plain": [
       "               ID Case Number                Date                Block  IUCR  \\\n",
       "2148433  12871185    JF448716 2022-10-25 12:13:00     001XX N STATE ST  0860   \n",
       "1307433  11561980    JC110590 2019-01-09 07:30:00     027XX N LONG AVE  0520   \n",
       "221655   13023181    JG201060 2023-03-27 15:35:00  045XX S DREXEL BLVD  0486   \n",
       "1627079  12049838    JD231408 2020-05-13 14:00:00      011XX E 82ND ST  0560   \n",
       "1490523  11841585    JC449119 2019-09-26 11:30:00     020XX N CLARK ST  0460   \n",
       "\n",
       "        Primary Type                     Description  \\\n",
       "2148433        THEFT                    RETAIL THEFT   \n",
       "1307433      ASSAULT  AGGRAVATED:KNIFE/CUTTING INSTR   \n",
       "221655       BATTERY         DOMESTIC BATTERY SIMPLE   \n",
       "1627079      ASSAULT                          SIMPLE   \n",
       "1490523      BATTERY                          SIMPLE   \n",
       "\n",
       "             Location Description  Arrest  Domestic  ...  FBI Code  \\\n",
       "2148433          DEPARTMENT STORE    True     False  ...        06   \n",
       "1307433  SCHOOL, PUBLIC, BUILDING   False     False  ...       04A   \n",
       "221655                  APARTMENT   False      True  ...       08B   \n",
       "1627079                  SIDEWALK   False     False  ...       08A   \n",
       "1490523                     OTHER   False     False  ...       08B   \n",
       "\n",
       "         X Coordinate  Y Coordinate  Year              Updated On   Latitude  \\\n",
       "2148433     1176352.0     1900927.0  2022  01/03/2023 03:46:28 PM  41.883500   \n",
       "1307433     1139908.0     1917674.0  2019  01/18/2019 09:37:14 AM  41.930200   \n",
       "221655      1182955.0     1875110.0  2023  07/15/2023 04:45:57 PM  41.812505   \n",
       "1627079     1185152.0     1850850.0  2020  05/20/2020 03:52:52 PM  41.745882   \n",
       "1490523     1173852.0     1913957.0  2019  10/03/2019 04:17:36 PM  41.919311   \n",
       "\n",
       "         Longitude                       Location arrest_made_False  \\\n",
       "2148433 -87.627877  (41.883500187, -87.627876698)                 0   \n",
       "1307433 -87.761293  (41.930200015, -87.761292788)                 1   \n",
       "221655  -87.604435  (41.812505323, -87.604434996)                 1   \n",
       "1627079 -87.597138  (41.745882354, -87.597138326)                 1   \n",
       "1490523 -87.636668  (41.919311217, -87.636668238)                 1   \n",
       "\n",
       "         arrest_made_True  \n",
       "2148433                 1  \n",
       "1307433                 0  \n",
       "221655                  0  \n",
       "1627079                 0  \n",
       "1490523                 0  \n",
       "\n",
       "[5 rows x 24 columns]"
      ]
     },
     "execution_count": 7,
     "metadata": {},
     "output_type": "execute_result"
    }
   ],
   "source": [
    "train.head()"
   ]
  },
  {
   "cell_type": "code",
   "execution_count": 15,
   "id": "88101704-59c1-4eb3-ab5f-f8d96ecf2fd9",
   "metadata": {
    "tags": []
   },
   "outputs": [],
   "source": [
    "location_counts = train['Location Description'].value_counts()"
   ]
  },
  {
   "cell_type": "code",
   "execution_count": 16,
   "id": "bcab13a3-8c8e-4a26-8356-699c7bbd081a",
   "metadata": {
    "tags": []
   },
   "outputs": [
    {
     "name": "stdout",
     "output_type": "stream",
     "text": [
      "STREET                                                   162448\n",
      "APARTMENT                                                110187\n",
      "RESIDENCE                                                 98299\n",
      "SIDEWALK                                                  40301\n",
      "SMALL RETAIL STORE                                        17414\n",
      "PARKING LOT / GARAGE (NON RESIDENTIAL)                    14309\n",
      "ALLEY                                                     13912\n",
      "RESTAURANT                                                13651\n",
      "VEHICLE NON-COMMERCIAL                                     9785\n",
      "DEPARTMENT STORE                                           9423\n",
      "OTHER                                                      9172\n",
      "GAS STATION                                                8958\n",
      "OTHER (SPECIFY)                                            7331\n",
      "GROCERY FOOD STORE                                         7184\n",
      "COMMERCIAL / BUSINESS OFFICE                               6741\n",
      "PARKING LOT/GARAGE(NON.RESID.)                             6350\n",
      "RESIDENCE - PORCH / HALLWAY                                5838\n",
      "RESIDENCE - YARD (FRONT / BACK)                            5241\n",
      "RESIDENCE - GARAGE                                         4924\n",
      "CONVENIENCE STORE                                          4761\n",
      "CTA TRAIN                                                  4266\n",
      "BAR OR TAVERN                                              4250\n",
      "RESIDENCE PORCH/HALLWAY                                    4099\n",
      "RESIDENTIAL YARD (FRONT/BACK)                              4051\n",
      "PARK PROPERTY                                              4001\n",
      "DRUG STORE                                                 3165\n",
      "RESIDENCE-GARAGE                                           2871\n",
      "SCHOOL, PUBLIC, BUILDING                                   2773\n",
      "SCHOOL - PUBLIC BUILDING                                   2346\n",
      "HOSPITAL BUILDING / GROUNDS                                2290\n",
      "BANK                                                       2211\n",
      "CTA BUS                                                    2192\n",
      "HOTEL / MOTEL                                              2192\n",
      "DRIVEWAY - RESIDENTIAL                                     2046\n",
      "CTA PLATFORM                                               2015\n",
      "CHA APARTMENT                                              1827\n",
      "SCHOOL - PUBLIC GROUNDS                                    1812\n",
      "CTA STATION                                                1795\n",
      "NURSING / RETIREMENT HOME                                  1351\n",
      "HOSPITAL BUILDING/GROUNDS                                  1216\n",
      "HOTEL/MOTEL                                                1207\n",
      "VACANT LOT / LAND                                          1153\n",
      "POLICE FACILITY / VEHICLE PARKING LOT                      1134\n",
      "CTA BUS STOP                                               1120\n",
      "ATHLETIC CLUB                                               893\n",
      "TAVERN / LIQUOR STORE                                       887\n",
      "SCHOOL, PUBLIC, GROUNDS                                     858\n",
      "NURSING HOME/RETIREMENT HOME                                807\n",
      "CHA PARKING LOT / GROUNDS                                   804\n",
      "CHURCH / SYNAGOGUE / PLACE OF WORSHIP                       709\n",
      "CURRENCY EXCHANGE                                           674\n",
      "CONSTRUCTION SITE                                           649\n",
      "GOVERNMENT BUILDING / PROPERTY                              627\n",
      "AUTO / BOAT / RV DEALERSHIP                                 626\n",
      "AIRPORT TERMINAL UPPER LEVEL - SECURE AREA                  622\n",
      "POLICE FACILITY/VEH PARKING LOT                             618\n",
      "WAREHOUSE                                                   580\n",
      "ATM (AUTOMATIC TELLER MACHINE)                              549\n",
      "MEDICAL / DENTAL OFFICE                                     543\n",
      "VACANT LOT/LAND                                             541\n",
      "SCHOOL, PRIVATE, BUILDING                                   500\n",
      "BARBERSHOP                                                  472\n",
      "LIBRARY                                                     461\n",
      "AIRPORT TERMINAL LOWER LEVEL - NON-SECURE AREA              448\n",
      "ABANDONED BUILDING                                          445\n",
      "TAVERN/LIQUOR STORE                                         438\n",
      "CHURCH/SYNAGOGUE/PLACE OF WORSHIP                           435\n",
      "CHA PARKING LOT/GROUNDS                                     435\n",
      "GOVERNMENT BUILDING/PROPERTY                                421\n",
      "SCHOOL - PRIVATE GROUNDS                                    411\n",
      "DAY CARE CENTER                                             404\n",
      "SCHOOL - PRIVATE BUILDING                                   375\n",
      "CAR WASH                                                    342\n",
      "AIRPORT PARKING LOT                                         326\n",
      "VEHICLE - COMMERCIAL                                        326\n",
      "TAXICAB                                                     322\n",
      "AIRPORT BUILDING NON-TERMINAL - NON-SECURE AREA             303\n",
      "OTHER COMMERCIAL TRANSPORTATION                             303\n",
      "APPLIANCE STORE                                             293\n",
      "CHA HALLWAY / STAIRWELL / ELEVATOR                          283\n",
      "CTA PARKING LOT / GARAGE / OTHER PROPERTY                   275\n",
      "AIRPORT TERMINAL UPPER LEVEL - NON-SECURE AREA              274\n",
      "CTA GARAGE / OTHER PROPERTY                                 252\n",
      "CLEANING STORE                                              244\n",
      "FACTORY / MANUFACTURING BUILDING                            238\n",
      "MEDICAL/DENTAL OFFICE                                       221\n",
      "AIRPORT EXTERIOR - NON-SECURE AREA                          213\n",
      "SPORTS ARENA/STADIUM                                        207\n",
      "AIRPORT TERMINAL LOWER LEVEL - SECURE AREA                  203\n",
      "VEHICLE - OTHER RIDE SHARE SERVICE (LYFT, UBER, ETC.)       201\n",
      "OTHER RAILROAD PROPERTY / TRAIN DEPOT                       198\n",
      "VEHICLE-COMMERCIAL                                          185\n",
      "VEHICLE - OTHER RIDE SHARE SERVICE (E.G., UBER, LYFT)       181\n",
      "SPORTS ARENA / STADIUM                                      180\n",
      "AIRPORT BUILDING NON-TERMINAL - SECURE AREA                 156\n",
      "AUTO                                                        142\n",
      "VEHICLE - DELIVERY TRUCK                                    141\n",
      "SCHOOL, PRIVATE, GROUNDS                                    140\n",
      "CHA HALLWAY/STAIRWELL/ELEVATOR                              138\n",
      "FIRE STATION                                                134\n",
      "COLLEGE/UNIVERSITY GROUNDS                                  128\n",
      "AIRCRAFT                                                    127\n",
      "COLLEGE / UNIVERSITY - GROUNDS                              124\n",
      "MOVIE HOUSE/THEATER                                         120\n",
      "FACTORY/MANUFACTURING BUILDING                              115\n",
      "OTHER RAILROAD PROP / TRAIN DEPOT                           113\n",
      "LAKEFRONT / WATERFRONT / RIVERBANK                          113\n",
      "AIRPORT EXTERIOR - SECURE AREA                              111\n",
      "JAIL / LOCK-UP FACILITY                                     108\n",
      "FEDERAL BUILDING                                            105\n",
      "MOVIE HOUSE / THEATER                                       104\n",
      "HIGHWAY / EXPRESSWAY                                        103\n",
      "PAWN SHOP                                                    99\n",
      "POOL ROOM                                                    75\n",
      "ANIMAL HOSPITAL                                              74\n",
      "HOUSE                                                        70\n",
      "COIN OPERATED MACHINE                                        69\n",
      "PORCH                                                        62\n",
      "CTA TRACKS - RIGHT OF WAY                                    58\n",
      "AIRPORT/AIRCRAFT                                             57\n",
      "BOWLING ALLEY                                                55\n",
      "AIRPORT VENDING ESTABLISHMENT                                53\n",
      "BOAT / WATERCRAFT                                            53\n",
      "LAKEFRONT/WATERFRONT/RIVERBANK                               53\n",
      "PARKING LOT                                                  49\n",
      "CREDIT UNION                                                 47\n",
      "YARD                                                         45\n",
      "BRIDGE                                                       44\n",
      "COLLEGE / UNIVERSITY - RESIDENCE HALL                        43\n",
      "HIGHWAY/EXPRESSWAY                                           41\n",
      "FOREST PRESERVE                                              37\n",
      "AIRPORT TRANSPORTATION SYSTEM (ATS)                          36\n",
      "COLLEGE/UNIVERSITY RESIDENCE HALL                            34\n",
      "CEMETARY                                                     32\n",
      "AIRPORT TERMINAL MEZZANINE - NON-SECURE AREA                 27\n",
      "BOAT/WATERCRAFT                                              23\n",
      "SAVINGS AND LOAN                                             20\n",
      "VACANT LOT                                                   16\n",
      "RETAIL STORE                                                 10\n",
      "GAS STATION DRIVE/PROP.                                      10\n",
      "CHA PARKING LOT                                              10\n",
      "GARAGE                                                        9\n",
      "BARBER SHOP/BEAUTY SALON                                      8\n",
      "VESTIBULE                                                     7\n",
      "GANGWAY                                                       7\n",
      "NEWSSTAND                                                     7\n",
      "VEHICLE - COMMERCIAL: TROLLEY BUS                             6\n",
      "KENNEL                                                        6\n",
      "VEHICLE - COMMERCIAL: ENTERTAINMENT / PARTY BUS               6\n",
      "HALLWAY                                                       6\n",
      "HOTEL                                                         5\n",
      "VEHICLE-COMMERCIAL - ENTERTAINMENT/PARTY BUS                  5\n",
      "SCHOOL YARD                                                   5\n",
      "CHA GROUNDS                                                   4\n",
      "CHA LOBBY                                                     3\n",
      "CTA \"L\" PLATFORM                                              3\n",
      "CTA \"L\" TRAIN                                                 3\n",
      "DRIVEWAY                                                      3\n",
      "LIQUOR STORE                                                  3\n",
      "FARM                                                          3\n",
      "OFFICE                                                        2\n",
      "CLUB                                                          2\n",
      "HORSE STABLE                                                  2\n",
      "BASEMENT                                                      2\n",
      "TAVERN                                                        2\n",
      "VEHICLE-COMMERCIAL - TROLLEY BUS                              2\n",
      "STAIRWELL                                                     1\n",
      "PUBLIC GRAMMAR SCHOOL                                         1\n",
      "BANQUET HALL                                                  1\n",
      "CTA SUBWAY STATION                                            1\n",
      "CHA PLAY LOT                                                  1\n",
      "WOODED AREA                                                   1\n",
      "RIVER BANK                                                    1\n",
      "MOTEL                                                         1\n",
      "LAKE                                                          1\n",
      "RAILROAD PROPERTY                                             1\n",
      "CTA PROPERTY                                                  1\n",
      "TRUCK                                                         1\n",
      "POLICE FACILITY                                               1\n",
      "HOSPITAL                                                      1\n",
      "CHA HALLWAY                                                   1\n",
      "ELEVATOR                                                      1\n",
      "Name: Location Description, dtype: int64\n"
     ]
    }
   ],
   "source": [
    "with pd.option_context('display.max_rows', None, 'display.max_columns', None):\n",
    "    print(location_counts)"
   ]
  },
  {
   "cell_type": "code",
   "execution_count": 17,
   "id": "e190fe53-4929-4cc9-84ad-7f86eee88e58",
   "metadata": {
    "tags": []
   },
   "outputs": [],
   "source": [
    "horse_stable_rows = train.loc[train['Location Description'] == 'HORSE STABLE']"
   ]
  },
  {
   "cell_type": "code",
   "execution_count": 18,
   "id": "8e56a29a-ec00-4a11-bb91-234fb3d6fd1c",
   "metadata": {
    "tags": []
   },
   "outputs": [
    {
     "data": {
      "text/html": [
       "<div>\n",
       "<style scoped>\n",
       "    .dataframe tbody tr th:only-of-type {\n",
       "        vertical-align: middle;\n",
       "    }\n",
       "\n",
       "    .dataframe tbody tr th {\n",
       "        vertical-align: top;\n",
       "    }\n",
       "\n",
       "    .dataframe thead th {\n",
       "        text-align: right;\n",
       "    }\n",
       "</style>\n",
       "<table border=\"1\" class=\"dataframe\">\n",
       "  <thead>\n",
       "    <tr style=\"text-align: right;\">\n",
       "      <th></th>\n",
       "      <th>ID</th>\n",
       "      <th>Case Number</th>\n",
       "      <th>Date</th>\n",
       "      <th>Block</th>\n",
       "      <th>IUCR</th>\n",
       "      <th>Primary Type</th>\n",
       "      <th>Description</th>\n",
       "      <th>Location Description</th>\n",
       "      <th>Arrest</th>\n",
       "      <th>Domestic</th>\n",
       "      <th>...</th>\n",
       "      <th>FBI Code</th>\n",
       "      <th>X Coordinate</th>\n",
       "      <th>Y Coordinate</th>\n",
       "      <th>Year</th>\n",
       "      <th>Updated On</th>\n",
       "      <th>Latitude</th>\n",
       "      <th>Longitude</th>\n",
       "      <th>Location</th>\n",
       "      <th>arrest_made_False</th>\n",
       "      <th>arrest_made_True</th>\n",
       "    </tr>\n",
       "  </thead>\n",
       "  <tbody>\n",
       "    <tr>\n",
       "      <th>1543386</th>\n",
       "      <td>11921107</td>\n",
       "      <td>JC546121</td>\n",
       "      <td>2019-12-13 22:50:00</td>\n",
       "      <td>030XX S TRIPP AVE</td>\n",
       "      <td>0460</td>\n",
       "      <td>BATTERY</td>\n",
       "      <td>SIMPLE</td>\n",
       "      <td>HORSE STABLE</td>\n",
       "      <td>False</td>\n",
       "      <td>False</td>\n",
       "      <td>...</td>\n",
       "      <td>08B</td>\n",
       "      <td>1148537.0</td>\n",
       "      <td>1884049.0</td>\n",
       "      <td>2019</td>\n",
       "      <td>12/20/2019 03:52:54 PM</td>\n",
       "      <td>41.837767</td>\n",
       "      <td>-87.730451</td>\n",
       "      <td>(41.837766905, -87.730451075)</td>\n",
       "      <td>1</td>\n",
       "      <td>0</td>\n",
       "    </tr>\n",
       "    <tr>\n",
       "      <th>1227042</th>\n",
       "      <td>11448912</td>\n",
       "      <td>JB439212</td>\n",
       "      <td>2018-09-17 12:30:00</td>\n",
       "      <td>016XX W HARRISON ST</td>\n",
       "      <td>0890</td>\n",
       "      <td>THEFT</td>\n",
       "      <td>FROM BUILDING</td>\n",
       "      <td>HORSE STABLE</td>\n",
       "      <td>False</td>\n",
       "      <td>False</td>\n",
       "      <td>...</td>\n",
       "      <td>06</td>\n",
       "      <td>1165491.0</td>\n",
       "      <td>1897444.0</td>\n",
       "      <td>2018</td>\n",
       "      <td>09/24/2018 04:05:29 PM</td>\n",
       "      <td>41.874181</td>\n",
       "      <td>-87.667858</td>\n",
       "      <td>(41.874180626, -87.66785807)</td>\n",
       "      <td>1</td>\n",
       "      <td>0</td>\n",
       "    </tr>\n",
       "  </tbody>\n",
       "</table>\n",
       "<p>2 rows × 24 columns</p>\n",
       "</div>"
      ],
      "text/plain": [
       "               ID Case Number                Date                Block  IUCR  \\\n",
       "1543386  11921107    JC546121 2019-12-13 22:50:00    030XX S TRIPP AVE  0460   \n",
       "1227042  11448912    JB439212 2018-09-17 12:30:00  016XX W HARRISON ST  0890   \n",
       "\n",
       "        Primary Type    Description Location Description  Arrest  Domestic  \\\n",
       "1543386      BATTERY         SIMPLE         HORSE STABLE   False     False   \n",
       "1227042        THEFT  FROM BUILDING         HORSE STABLE   False     False   \n",
       "\n",
       "         ...  FBI Code  X Coordinate  Y Coordinate  Year  \\\n",
       "1543386  ...       08B     1148537.0     1884049.0  2019   \n",
       "1227042  ...        06     1165491.0     1897444.0  2018   \n",
       "\n",
       "                     Updated On   Latitude  Longitude  \\\n",
       "1543386  12/20/2019 03:52:54 PM  41.837767 -87.730451   \n",
       "1227042  09/24/2018 04:05:29 PM  41.874181 -87.667858   \n",
       "\n",
       "                              Location arrest_made_False  arrest_made_True  \n",
       "1543386  (41.837766905, -87.730451075)                 1                 0  \n",
       "1227042   (41.874180626, -87.66785807)                 1                 0  \n",
       "\n",
       "[2 rows x 24 columns]"
      ]
     },
     "execution_count": 18,
     "metadata": {},
     "output_type": "execute_result"
    }
   ],
   "source": [
    "horse_stable_rows"
   ]
  },
  {
   "cell_type": "code",
   "execution_count": 8,
   "id": "f4d52264-7d7f-4ec7-9272-ede104930fd0",
   "metadata": {
    "tags": []
   },
   "outputs": [
    {
     "data": {
      "text/plain": [
       "THEFT                                140014\n",
       "BATTERY                              120273\n",
       "CRIMINAL DAMAGE                       73008\n",
       "ASSAULT                               55857\n",
       "DECEPTIVE PRACTICE                    43137\n",
       "OTHER OFFENSE                         40020\n",
       "MOTOR VEHICLE THEFT                   39515\n",
       "ROBBERY                               23265\n",
       "BURGLARY                              22973\n",
       "WEAPONS VIOLATION                     22057\n",
       "NARCOTICS                             21056\n",
       "CRIMINAL TRESPASS                     13309\n",
       "OFFENSE INVOLVING CHILDREN             5417\n",
       "SEX OFFENSE                            3112\n",
       "CRIMINAL SEXUAL ASSAULT                3062\n",
       "PUBLIC PEACE VIOLATION                 2842\n",
       "INTERFERENCE WITH PUBLIC OFFICER       2047\n",
       "HOMICIDE                               1907\n",
       "ARSON                                  1278\n",
       "PROSTITUTION                           1007\n",
       "CRIM SEXUAL ASSAULT                     854\n",
       "STALKING                                851\n",
       "LIQUOR LAW VIOLATION                    516\n",
       "CONCEALED CARRY LICENSE VIOLATION       494\n",
       "INTIMIDATION                            481\n",
       "KIDNAPPING                              350\n",
       "GAMBLING                                158\n",
       "OBSCENITY                               134\n",
       "HUMAN TRAFFICKING                        26\n",
       "PUBLIC INDECENCY                         22\n",
       "NON-CRIMINAL                             13\n",
       "OTHER NARCOTIC VIOLATION                 10\n",
       "Name: Primary Type, dtype: int64"
      ]
     },
     "execution_count": 8,
     "metadata": {},
     "output_type": "execute_result"
    }
   ],
   "source": [
    "train['Primary Type'].value_counts()"
   ]
  },
  {
   "cell_type": "code",
   "execution_count": 9,
   "id": "d3916236-d6a0-4e76-a2e0-ca091b9e55af",
   "metadata": {
    "tags": []
   },
   "outputs": [
    {
     "data": {
      "text/plain": [
       "False    538971\n",
       "True     100094\n",
       "Name: Arrest, dtype: int64"
      ]
     },
     "execution_count": 9,
     "metadata": {},
     "output_type": "execute_result"
    }
   ],
   "source": [
    "train['Arrest'].value_counts()"
   ]
  },
  {
   "cell_type": "code",
   "execution_count": 10,
   "id": "585cc1c0-0549-49b4-9ef2-1e6eac818f4d",
   "metadata": {
    "tags": []
   },
   "outputs": [
    {
     "data": {
      "text/plain": [
       "2019    144514\n",
       "2022    130270\n",
       "2020    115896\n",
       "2021    113461\n",
       "2023     72549\n",
       "2018     62375\n",
       "Name: Year, dtype: int64"
      ]
     },
     "execution_count": 10,
     "metadata": {},
     "output_type": "execute_result"
    }
   ],
   "source": [
    "train['Year'].value_counts()"
   ]
  },
  {
   "cell_type": "code",
   "execution_count": 13,
   "id": "cb35ff1d-170f-4635-a6b9-93552d36ed57",
   "metadata": {
    "tags": []
   },
   "outputs": [
    {
     "data": {
      "image/png": "[encoded data removed]",
      "text/plain": [
       "<Figure size 1000x600 with 1 Axes>"
      ]
     },
     "metadata": {},
     "output_type": "display_data"
    }
   ],
   "source": [
    "arrests_by_year = train[train['arrest_made_True'] == True].groupby('Year').size()\n",
    "\n",
    "# Create the line plot\n",
    "plt.figure(figsize=(10, 6))  # Adjust the figure size if needed\n",
    "sns.lineplot(x=arrests_by_year.index, y=arrests_by_year.values, marker='o')\n",
    "plt.title('Number of Arrests by Year in the Past 5 Years')\n",
    "plt.xlabel('Year')\n",
    "plt.ylabel('Number of Arrests')\n",
    "plt.grid(True)  # Add gridlines for better readability\n",
    "plt.show()"
   ]
  },
  {
   "cell_type": "code",
   "execution_count": null,
   "id": "7871ad1e-9dd0-4b5c-8351-daf2edd33abb",
   "metadata": {},
   "outputs": [],
   "source": []
  }
 ],
 "metadata": {
  "kernelspec": {
   "display_name": "Python 3 (ipykernel)",
   "language": "python",
   "name": "python3"
  },
  "language_info": {
   "codemirror_mode": {
    "name": "ipython",
    "version": 3
   },
   "file_extension": ".py",
   "mimetype": "text/x-python",
   "name": "python",
   "nbconvert_exporter": "python",
   "pygments_lexer": "ipython3",
   "version": "3.10.9"
  }
 },
 "nbformat": 4,
 "nbformat_minor": 5
}
